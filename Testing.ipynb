{
  "nbformat": 4,
  "nbformat_minor": 0,
  "metadata": {
    "colab": {
      "private_outputs": true,
      "provenance": []
    },
    "kernelspec": {
      "name": "python3",
      "display_name": "Python 3"
    },
    "language_info": {
      "name": "python"
    }
  },
  "cells": [
    {
      "cell_type": "code",
      "source": [
        "# Importing necsarry packages\n",
        "from keras.models import model_from_json\n",
        "import pickle"
      ],
      "metadata": {
        "id": "nLn-Pvs9aPma"
      },
      "execution_count": null,
      "outputs": []
    },
    {
      "cell_type": "code",
      "source": [
        "def load_architecture(architecture_filepath,weights_path):\n",
        "  with open(architecture_filepath, \"r\") as json_file:\n",
        "    loaded_model_json = json_file.read()\n",
        "  model = model_from_json(loaded_model_json)\n",
        "  model.load_weights(\"/content/model_weights.h5\")\n",
        "  return model"
      ],
      "metadata": {
        "id": "YrNjsRVoZyUJ"
      },
      "execution_count": null,
      "outputs": []
    },
    {
      "cell_type": "markdown",
      "source": [
        "Please add your both architecture and weights file paths"
      ],
      "metadata": {
        "id": "8s2NQ8dZ1_Zq"
      }
    },
    {
      "cell_type": "code",
      "source": [
        "model = load_architecture('/content/model_arch.json','/content/model_weights.h5')"
      ],
      "metadata": {
        "id": "nw_afvq00fPT"
      },
      "execution_count": null,
      "outputs": []
    },
    {
      "cell_type": "code",
      "source": [
        "import joblib"
      ],
      "metadata": {
        "id": "VTI8ZTZH1JUo"
      },
      "execution_count": null,
      "outputs": []
    },
    {
      "cell_type": "code",
      "source": [
        "def add_vectorizer(file_path):\n",
        "  vectorizer = joblib.load('/content/tfidf_vectorizer.pkl')\n",
        "  return vectorizer"
      ],
      "metadata": {
        "id": "cRxwefvHajRO"
      },
      "execution_count": null,
      "outputs": []
    },
    {
      "cell_type": "markdown",
      "source": [
        " please add vectorizer path"
      ],
      "metadata": {
        "id": "Yaip1zM_2JGE"
      }
    },
    {
      "cell_type": "code",
      "source": [
        "vectorizer = add_vectorizer('/content/tfidf_vectorizer.pkl')"
      ],
      "metadata": {
        "id": "Vo2ySpsW1L3d"
      },
      "execution_count": null,
      "outputs": []
    },
    {
      "cell_type": "code",
      "source": [
        "# Load Regular Expression\n",
        "import re"
      ],
      "metadata": {
        "id": "d18F3YMMbhDD"
      },
      "execution_count": null,
      "outputs": []
    },
    {
      "cell_type": "code",
      "source": [
        "def enter_address(address):\n",
        "  # Text Processing\n",
        "  address = address.lower()\n",
        "  address = address.replace('*','N').replace('$','A')\n",
        "  address = re.sub(r'[a-zA-Z0-9]',' ',address)\n",
        "  # Text Representation\n",
        "  input_arr = vectorizer.transform([address]).toarray()\n",
        "  # Prediction\n",
        "  pred_y = model.predict(input_arr)\n",
        "  if pred_y[0]>0.5:\n",
        "    return 'Commercial'\n",
        "  else:\n",
        "    return 'residential'"
      ],
      "metadata": {
        "id": "fH5BXdCwbJyW"
      },
      "execution_count": null,
      "outputs": []
    },
    {
      "cell_type": "markdown",
      "source": [
        "Test model by entering address"
      ],
      "metadata": {
        "id": "3NZt6s4e1qRe"
      }
    },
    {
      "cell_type": "code",
      "source": [
        "# please run the below block"
      ],
      "metadata": {
        "id": "cQpRI5OL1uoK"
      },
      "execution_count": null,
      "outputs": []
    },
    {
      "cell_type": "code",
      "source": [
        "enter_address(input('enter your address here'))"
      ],
      "metadata": {
        "id": "1vzbjJLHb2q8"
      },
      "execution_count": null,
      "outputs": []
    }
  ]
}